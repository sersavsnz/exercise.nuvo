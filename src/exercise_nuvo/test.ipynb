{
 "cells": [
  {
   "cell_type": "code",
   "execution_count": 12,
   "metadata": {},
   "outputs": [],
   "source": [
    "import os\n",
    "\n",
    "import conf\n",
    "from dotenv import load_dotenv\n",
    "from langchain.prompts import (\n",
    "    PipelinePromptTemplate,\n",
    "    PromptTemplate,\n",
    ")\n",
    "from langchain_core.output_parsers import StrOutputParser\n",
    "from langchain_openai import OpenAI\n",
    "from langchain.chains import LLMChain"
   ]
  },
  {
   "cell_type": "code",
   "execution_count": 13,
   "metadata": {},
   "outputs": [],
   "source": [
    "load_dotenv()\n",
    "OPENAI_API_KEY = os.getenv(\"OPENAI_API_KEY\")\n",
    "\n",
    "llm = OpenAI(openai_api_key=OPENAI_API_KEY)\n",
    "full_template = conf.PROMPTS[\"FULL_TEMPLATE\"]\n",
    "role_template = conf.PROMPTS[\"ROLE_TEMPLATE\"]\n",
    "instruction_template = conf.PROMPTS[\"INSTRUCTION_TEMPLATE\"]\n",
    "example_template = conf.PROMPTS[\"EXAMPLE_TEMPLATE\"]\n",
    "start_template = conf.PROMPTS[\"START_TEMPLATE\"]\n",
    "\n",
    "full_prompt = PromptTemplate.from_template(full_template)\n",
    "role_prompt = PromptTemplate.from_template(role_template)\n",
    "instruction_prompt = PromptTemplate.from_template(instruction_template)\n",
    "example_prompt = PromptTemplate.from_template(example_template)\n",
    "start_prompt = PromptTemplate.from_template(start_template)\n",
    "\n",
    "input_prompts = [\n",
    "    (\"role\", role_prompt),\n",
    "    (\"instruction\", instruction_prompt),\n",
    "    (\"example\", example_prompt),\n",
    "    (\"start\", start_prompt),\n",
    "]\n",
    "pipeline_prompt = PipelinePromptTemplate(final_prompt=full_prompt, pipeline_prompts=input_prompts)"
   ]
  },
  {
   "cell_type": "code",
   "execution_count": 16,
   "metadata": {},
   "outputs": [],
   "source": [
    "user_instruction = \"Standardize the phone numbers. See examples below\"\n",
    "user_example = \"(001658345423, +491658345423), (01743456732, +491743456732), (1845342361, +491845342361), (1743567891, +491743567891)\""
   ]
  },
  {
   "cell_type": "code",
   "execution_count": 20,
   "metadata": {},
   "outputs": [],
   "source": [
    "user_instruction = \"Standardize dates to dd.mm.yyyy format\"\n",
    "# user_example = \"(13.01.91, 13.01.1991), (02.27.2016, 27.02.2016), (1994-12-13, 13.12.1994) \"\n",
    "user_example = \"\""
   ]
  },
  {
   "cell_type": "code",
   "execution_count": 22,
   "metadata": {},
   "outputs": [],
   "source": [
    "user_instruction = \"Standardize address to the following format: {street} {house number}, {post index} city\"\n",
    "# user_example = \"(13.01.91, 13.01.1991), (02.27.2016, 27.02.2016), (1994-12-13, 13.12.1994) \"\n",
    "user_example = \"(20095 Hamburg/Rathausmarkt 1, Rathausmarkt 1, 20095 Hamburg)\""
   ]
  },
  {
   "cell_type": "code",
   "execution_count": 23,
   "metadata": {},
   "outputs": [
    {
     "data": {
      "text/plain": [
       "' address: (values) => { values.map(([item, index]) => { let address = item; let houseNumber = \\'\\'; let postIndex = \\'\\'; let city = \\'\\'; //split address into street and house number if (/\\\\d/.test(address)) { const numIndex = address.search(/\\\\d/); houseNumber = address.slice(numIndex, address.length); address = address.slice(0, numIndex).trim(); } //split address by comma if (address.includes(\\',\\')) { const splitAddress = address.split(\\',\\'); //check if last element is a number if (/\\\\d/.test(splitAddress[splitAddress.length - 1].trim())) { postIndex = splitAddress[splitAddress.length - 1].trim(); city = splitAddress[splitAddress.length - 2].trim(); } else { city = splitAddress[splitAddress.length - 1].trim(); } } else { city = address; } //combine all elements into standardized address format address = `${address} ${houseNumber}, ${postIndex} ${city}`; return [{ value: address, info: [{ message: \\'We have automatically standardized your address to the correct format.\\', level: \"info\", },], }, index, ]; }); }'"
      ]
     },
     "execution_count": 23,
     "metadata": {},
     "output_type": "execute_result"
    }
   ],
   "source": [
    "llm_chain = pipeline_prompt | llm\n",
    "llm_chain.invoke({\"user_example\": user_example, \"user_instruction\": user_instruction})"
   ]
  },
  {
   "cell_type": "code",
   "execution_count": null,
   "metadata": {},
   "outputs": [],
   "source": []
  }
 ],
 "metadata": {
  "kernelspec": {
   "display_name": ".venv",
   "language": "python",
   "name": "python3"
  },
  "language_info": {
   "codemirror_mode": {
    "name": "ipython",
    "version": 3
   },
   "file_extension": ".py",
   "mimetype": "text/x-python",
   "name": "python",
   "nbconvert_exporter": "python",
   "pygments_lexer": "ipython3",
   "version": "3.11.0"
  }
 },
 "nbformat": 4,
 "nbformat_minor": 2
}
